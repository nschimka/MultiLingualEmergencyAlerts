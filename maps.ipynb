{
 "cells": [
  {
   "cell_type": "code",
   "execution_count": null,
   "id": "5f924e5c",
   "metadata": {},
   "outputs": [],
   "source": [
    "# %pip install geopandas pandas folium requests matplotlib"
   ]
  },
  {
   "cell_type": "markdown",
   "id": "d37a84b8",
   "metadata": {},
   "source": [
    "take care of the imports"
   ]
  },
  {
   "cell_type": "code",
   "execution_count": 3,
   "id": "af40895c",
   "metadata": {},
   "outputs": [],
   "source": [
    "import geopandas as gpd\n",
    "import requests"
   ]
  },
  {
   "cell_type": "markdown",
   "id": "65327218",
   "metadata": {},
   "source": [
    "Download the shapefiles from the US Census"
   ]
  },
  {
   "cell_type": "code",
   "execution_count": 4,
   "id": "43eb1693",
   "metadata": {},
   "outputs": [],
   "source": [
    "# load all of the counties as a zip file\n",
    "file_location = \"https://www2.census.gov/geo/tiger/GENZ2022/shp/cb_2022_us_county_20m.zip\"\n",
    "file_name = \"data/cb_2022_us_county_20m/cb_2022_us_county_20m.shp\"\n",
    "headers = {\"User-Agent\": \"Mozilla/5.0\"}\n",
    "\n",
    "response = requests.get(file_location, headers=headers)\n",
    "with open(\"cb_2022_us_county_20m.zip\", \"wb\") as f:\n",
    "    f.write(response.content)\n"
   ]
  },
  {
   "cell_type": "code",
   "execution_count": 5,
   "id": "6fbc5fee",
   "metadata": {},
   "outputs": [],
   "source": [
    "\n",
    "counties = gpd.read_file(file_name)\n"
   ]
  },
  {
   "cell_type": "markdown",
   "id": "a1e251c7",
   "metadata": {},
   "source": [
    "Get a list of all state names and their codes"
   ]
  },
  {
   "cell_type": "code",
   "execution_count": 6,
   "id": "1f0ab68b",
   "metadata": {},
   "outputs": [
    {
     "name": "stdout",
     "output_type": "stream",
     "text": [
      "State Code           State Name\n",
      "        01              Alabama\n",
      "        02               Alaska\n",
      "        04              Arizona\n",
      "        05             Arkansas\n",
      "        06           California\n",
      "        08             Colorado\n",
      "        09          Connecticut\n",
      "        10             Delaware\n",
      "        11 District of Columbia\n",
      "        12              Florida\n",
      "        13              Georgia\n",
      "        15               Hawaii\n",
      "        16                Idaho\n",
      "        17             Illinois\n",
      "        18              Indiana\n",
      "        19                 Iowa\n",
      "        20               Kansas\n",
      "        21             Kentucky\n",
      "        22            Louisiana\n",
      "        23                Maine\n",
      "        24             Maryland\n",
      "        25        Massachusetts\n",
      "        26             Michigan\n",
      "        27            Minnesota\n",
      "        28          Mississippi\n",
      "        29             Missouri\n",
      "        30              Montana\n",
      "        31             Nebraska\n",
      "        32               Nevada\n",
      "        33        New Hampshire\n",
      "        34           New Jersey\n",
      "        35           New Mexico\n",
      "        36             New York\n",
      "        37       North Carolina\n",
      "        38         North Dakota\n",
      "        39                 Ohio\n",
      "        40             Oklahoma\n",
      "        41               Oregon\n",
      "        42         Pennsylvania\n",
      "        72          Puerto Rico\n",
      "        44         Rhode Island\n",
      "        45       South Carolina\n",
      "        46         South Dakota\n",
      "        47            Tennessee\n",
      "        48                Texas\n",
      "        49                 Utah\n",
      "        50              Vermont\n",
      "        51             Virginia\n",
      "        53           Washington\n",
      "        54        West Virginia\n",
      "        55            Wisconsin\n",
      "        56              Wyoming\n"
     ]
    }
   ],
   "source": [
    "# find state codes\n",
    "state_code_list = counties[['STATEFP', 'STATE_NAME']].drop_duplicates().sort_values('STATE_NAME')\n",
    "state_code_list = state_code_list.rename(columns={'STATEFP': 'State Code', 'STATE_NAME': 'State Name'})\n",
    "\n",
    "print(state_code_list.to_string(index=False, justify='right'))"
   ]
  },
  {
   "cell_type": "code",
   "execution_count": 7,
   "id": "79ace1a5",
   "metadata": {},
   "outputs": [
    {
     "name": "stdout",
     "output_type": "stream",
     "text": [
      "     STATEFP COUNTYFP  COUNTYNS        AFFGEOID  GEOID       NAME  \\\n",
      "0         17      127  01784730  0500000US17127  17127     Massac   \n",
      "1         27      017  00659454  0500000US27017  27017    Carlton   \n",
      "2         37      181  01008591  0500000US37181  37181      Vance   \n",
      "3         47      079  01639755  0500000US47079  47079      Henry   \n",
      "4         06      021  00277275  0500000US06021  06021      Glenn   \n",
      "...      ...      ...       ...             ...    ...        ...   \n",
      "3217      51      167  01497573  0500000US51167  51167    Russell   \n",
      "3218      40      089  01101835  0500000US40089  40089  McCurtain   \n",
      "3219      01      105  00161579  0500000US01105  01105      Perry   \n",
      "3220      54      043  01550028  0500000US54043  54043    Lincoln   \n",
      "3221      17      125  00424261  0500000US17125  17125      Mason   \n",
      "\n",
      "              NAMELSAD STUSPS      STATE_NAME LSAD       ALAND     AWATER  \\\n",
      "0        Massac County     IL        Illinois   06   614218330   12784614   \n",
      "1       Carlton County     MN       Minnesota   06  2230473967   36173451   \n",
      "2         Vance County     NC  North Carolina   06   653701481   42190675   \n",
      "3         Henry County     TN       Tennessee   06  1455320362   81582236   \n",
      "4         Glenn County     CA      California   06  3403160299   33693344   \n",
      "...                ...    ...             ...  ...         ...        ...   \n",
      "3217    Russell County     VA        Virginia   06  1226421378    7558481   \n",
      "3218  McCurtain County     OK        Oklahoma   06  4793496603  133942698   \n",
      "3219      Perry County     AL         Alabama   06  1863936201   10902207   \n",
      "3220    Lincoln County     WV   West Virginia   06  1132065764    4053564   \n",
      "3221      Mason County     IL        Illinois   06  1396914848   62748513   \n",
      "\n",
      "                                               geometry  \n",
      "0     POLYGON ((-88.92876 37.30285, -88.90507 37.335...  \n",
      "1     POLYGON ((-93.06133 46.76655, -92.30168 46.764...  \n",
      "2     POLYGON ((-78.49778 36.51448, -78.45728 36.541...  \n",
      "3     POLYGON ((-88.51636 36.50146, -88.51192 36.501...  \n",
      "4     POLYGON ((-122.91179 39.79948, -122.04647 39.7...  \n",
      "...                                                 ...  \n",
      "3217  POLYGON ((-82.40663 36.87636, -82.2986 36.9057...  \n",
      "3218  POLYGON ((-95.15652 34.15696, -95.15132 34.243...  \n",
      "3219  POLYGON ((-87.5252 32.65571, -87.47392 32.6558...  \n",
      "3220  POLYGON ((-82.19231 38.04631, -82.28332 38.141...  \n",
      "3221  POLYGON ((-90.35452 40.12422, -90.20614 40.155...  \n",
      "\n",
      "[3222 rows x 13 columns]\n"
     ]
    }
   ],
   "source": [
    "print(counties)"
   ]
  },
  {
   "cell_type": "markdown",
   "id": "ba72f727",
   "metadata": {},
   "source": [
    "Select your state of interest"
   ]
  },
  {
   "cell_type": "code",
   "execution_count": 8,
   "id": "1437270a",
   "metadata": {},
   "outputs": [
    {
     "name": "stdout",
     "output_type": "stream",
     "text": [
      "Counties in Washington:\n",
      "['Spokane', 'Mason', 'Pend Oreille', 'Adams', 'Lincoln', 'Cowlitz', 'Whatcom', 'Thurston', 'Snohomish', 'Clark', 'Garfield', 'Klickitat', 'Columbia', 'Walla Walla', 'San Juan', 'Kittitas', 'King', 'Stevens', 'Jefferson', 'Franklin', 'Pierce', 'Okanogan', 'Benton', 'Kitsap', 'Clallam', 'Whitman', 'Island', 'Skamania', 'Grays Harbor', 'Pacific', 'Asotin', 'Wahkiakum', 'Douglas', 'Grant', 'Yakima', 'Ferry', 'Skagit', 'Lewis', 'Chelan']\n"
     ]
    }
   ],
   "source": [
    "# Filter counties for Washington state and display their names\n",
    "washington_counties = counties[counties['STATE_NAME'] == 'Washington']\n",
    "print(\"Counties in Washington:\")\n",
    "print(washington_counties['NAME'].tolist())"
   ]
  },
  {
   "cell_type": "code",
   "execution_count": 9,
   "id": "39428f96",
   "metadata": {},
   "outputs": [
    {
     "data": {
      "text/plain": [
       "<Axes: >"
      ]
     },
     "execution_count": 9,
     "metadata": {},
     "output_type": "execute_result"
    },
    {
     "data": {
      "image/png": "[encoded data removed]",
      "text/plain": [
       "<Figure size 1000x600 with 1 Axes>"
      ]
     },
     "metadata": {},
     "output_type": "display_data"
    }
   ],
   "source": [
    "# plot the counties\n",
    "counties.plot(edgecolor='black', figsize=(10,6))\n"
   ]
  }
 ],
 "metadata": {
  "kernelspec": {
   "display_name": "572",
   "language": "python",
   "name": "python3"
  },
  "language_info": {
   "codemirror_mode": {
    "name": "ipython",
    "version": 3
   },
   "file_extension": ".py",
   "mimetype": "text/x-python",
   "name": "python",
   "nbconvert_exporter": "python",
   "pygments_lexer": "ipython3",
   "version": "3.10.16"
  }
 },
 "nbformat": 4,
 "nbformat_minor": 5
}
